{
  "nbformat": 4,
  "nbformat_minor": 0,
  "metadata": {
    "colab": {
      "provenance": [],
      "include_colab_link": true
    },
    "kernelspec": {
      "name": "python3",
      "display_name": "Python 3"
    },
    "language_info": {
      "name": "python"
    }
  },
  "cells": [
    {
      "cell_type": "markdown",
      "metadata": {
        "id": "view-in-github",
        "colab_type": "text"
      },
      "source": [
        "<a href=\"https://colab.research.google.com/github/SATRAJ-K/Assignment4/blob/main/01_expressions.ipynb\" target=\"_parent\"><img src=\"https://colab.research.google.com/assets/colab-badge.svg\" alt=\"Open In Colab\"/></a>"
      ]
    },
    {
      "cell_type": "markdown",
      "source": [
        "# 🔰 01 Dicesimulator 🔰"
      ],
      "metadata": {
        "id": "AYjysiduPY_D"
      }
    },
    {
      "cell_type": "code",
      "source": [
        "# 01_Dicesimulator\n",
        "import random\n",
        "\n",
        "NUMBER_SIDES: int = 6\n",
        "\n",
        "def roll_dice():\n",
        "  die_a:int=random.randint(1,NUMBER_SIDES)\n",
        "  die_b:int=random.randint(1,NUMBER_SIDES)\n",
        "  total:int=die_a+die_b\n",
        "  print(f\"Total of two dies:{total}\")\n",
        "\n",
        "def main():\n",
        "    die_a:int=10\n",
        "    print(\"die_a in main() start as :\" + str(die_a))\n",
        "    roll_dice()\n",
        "    roll_dice()\n",
        "    roll_dice()\n",
        "    print(\"die_a in main() is :\" + str(die_a))\n",
        "\n",
        "if __name__ == \"__main__\":\n",
        "  main()\n"
      ],
      "metadata": {
        "colab": {
          "base_uri": "https://localhost:8080/"
        },
        "id": "pzi4iWKgTTmG",
        "outputId": "a645a5e3-6353-4bde-f646-d9a4b53f1aff"
      },
      "execution_count": null,
      "outputs": [
        {
          "output_type": "stream",
          "name": "stdout",
          "text": [
            "die_a in main() start as :10\n",
            "Total of two dies:7\n",
            "Total of two dies:7\n",
            "Total of two dies:7\n",
            "die_a in main() is :10\n"
          ]
        }
      ]
    },
    {
      "cell_type": "markdown",
      "source": [
        "# 💢02 e=mc2💢"
      ],
      "metadata": {
        "id": "NFXG2ynVUCra"
      }
    },
    {
      "cell_type": "code",
      "source": [
        "#_e=mc2\n",
        "C: int=  299792458\n",
        "def energy():\n",
        "  mass_in_kg = float(input(\"Enter kilo of mass:\"))\n",
        "  energy_in_joules: float = mass_in_kg * (C ** 2)\n",
        "\n",
        "  print(\"e = m * C^2...\")\n",
        "  print(\"Mass = \"+str(mass_in_kg) + \"kg\")\n",
        "  print(\"C = \" + str(C) + \"m/s\")\n",
        "  print(\"e = \" + str(energy_in_joules) +  \"Joules of Energy\")\n",
        "\n",
        "if __name__ == \"__main__\":\n",
        "  energy()\n"
      ],
      "metadata": {
        "colab": {
          "base_uri": "https://localhost:8080/"
        },
        "id": "-BcNGzgrZyQa",
        "outputId": "b7ac76e1-997f-42a3-a813-890c3d32f9e3"
      },
      "execution_count": null,
      "outputs": [
        {
          "output_type": "stream",
          "name": "stdout",
          "text": [
            "Enter kilo of mass:13\n",
            "e = m * C^2...\n",
            "Mass = 13.0kg\n",
            "C = 299792458m/s\n",
            "e = 1.168381732357863e+18Joules of Energy\n"
          ]
        }
      ]
    },
    {
      "cell_type": "markdown",
      "source": [
        "# 03 🔰Feet To Inches🔰"
      ],
      "metadata": {
        "id": "e9UvYi5Za-7f"
      }
    },
    {
      "cell_type": "code",
      "source": [
        "# 03_feet_to_inches\n",
        "\n",
        "INCHES:int=12\n",
        "\n",
        "def FOOT():\n",
        "  feet:int=int(input(\"Enter feet and conver into inches:\"))\n",
        "  print(f\"There are  {INCHES * feet} Inches in {feet} feet\")\n",
        "\n",
        "\n",
        "if __name__ == \"__main__\":\n",
        "  FOOT()\n"
      ],
      "metadata": {
        "colab": {
          "base_uri": "https://localhost:8080/"
        },
        "id": "ZFoV1iYDbWKF",
        "outputId": "400e03aa-b5b8-4e8f-bf26-12edfbb7bb9a"
      },
      "execution_count": null,
      "outputs": [
        {
          "output_type": "stream",
          "name": "stdout",
          "text": [
            "Enter feet and conver into inches:15\n",
            "There are  180 Inches in 15 feet\n"
          ]
        }
      ]
    },
    {
      "cell_type": "markdown",
      "source": [
        "# 🚀04 Pythagorean Theorem🚀"
      ],
      "metadata": {
        "id": "jYbq-fmBeerm"
      }
    },
    {
      "cell_type": "code",
      "source": [
        "# 04_pythagorean_theorem\n",
        "\n",
        "import math\n",
        "\n",
        "\n",
        "def pythagorean_theorem():\n",
        "  ab:float = float(input(\"Enter the length of the side ab .\"))\n",
        "  ac :float = float (input(\"Enter the length of the side ac.\"))\n",
        "  bc : float = math.sqrt((ab**2)+(ac**2))\n",
        "  print(f\"The length of the side bc (the hypothenuse is {bc}\")\n",
        "\n",
        "if __name__ == \"__main__\":\n",
        "  pythagorean_theorem()"
      ],
      "metadata": {
        "id": "UGGwU330ezzo",
        "colab": {
          "base_uri": "https://localhost:8080/"
        },
        "outputId": "0778bd34-0b5f-4872-b540-f74842b8d3d0"
      },
      "execution_count": null,
      "outputs": [
        {
          "output_type": "stream",
          "name": "stdout",
          "text": [
            "Enter the length of the side ab .30\n",
            "Enter the length of the side ac.10\n",
            "The length of the side bc (the hypothenuse is 31.622776601683793\n"
          ]
        }
      ]
    },
    {
      "cell_type": "markdown",
      "source": [
        "#🗼 05 Remainder Division🗼"
      ],
      "metadata": {
        "id": "OFbLFuuGnC7a"
      }
    },
    {
      "cell_type": "code",
      "source": [
        "# remainder_division\n",
        "\n",
        "def remainder_division():\n",
        "  num1:int=int(input(\"Enter an integar to be divided:\"))\n",
        "  num2:int=int(input(\"Enter an integar to divide by:\"))\n",
        "  quotient:int=num1//num2\n",
        "  remainder:int=num1%num2\n",
        "  print(f\"{num1} divided by {num2} The result of  {quotient} with remainder {remainder}\")\n",
        "\n",
        "if __name__ == \"__main__\":\n",
        "  remainder_division()\n"
      ],
      "metadata": {
        "colab": {
          "base_uri": "https://localhost:8080/"
        },
        "id": "w2MaSXEZqAph",
        "outputId": "589edf02-fec8-4484-dce9-5112badd47a8"
      },
      "execution_count": null,
      "outputs": [
        {
          "output_type": "stream",
          "name": "stdout",
          "text": [
            "Enter an integar to be divided:20\n",
            "Enter an integar to divide by:2\n",
            "20 divided by 2 The result of  10 with remainder 0\n"
          ]
        }
      ]
    },
    {
      "cell_type": "markdown",
      "source": [
        "# 🛹06 Roll_Dice🛹"
      ],
      "metadata": {
        "id": "KDwghksIqzbZ"
      }
    },
    {
      "cell_type": "code",
      "source": [
        "# 06_rolldice\n",
        "\n",
        "def roll_dice():\n",
        "  die1:int=random.randint(1,6)\n",
        "  die2:int=random.randint(1,6)\n",
        "  total : int =int(die1) +int(die2)\n",
        "  print(\"1st_die :\" + str(die1))\n",
        "  print(\"2nd_die :\" + str(die2))\n",
        "  print(\"Total :\" + str(total))\n",
        "  print(f\"Die 2: {die2}\")\n",
        "\n",
        "\n",
        "if __name__ == \"__main__\":\n",
        "  roll_dice()\n"
      ],
      "metadata": {
        "colab": {
          "base_uri": "https://localhost:8080/"
        },
        "id": "4KXNagLAtAn6",
        "outputId": "936c6785-9b40-4d08-c9d0-0ffc1abd732e"
      },
      "execution_count": null,
      "outputs": [
        {
          "output_type": "stream",
          "name": "stdout",
          "text": [
            "1st_die :2\n",
            "2nd_die :4\n",
            "Total :6\n",
            "Die 2: 4\n"
          ]
        }
      ]
    },
    {
      "cell_type": "markdown",
      "source": [
        "# 🔰06 Second in Year🔰"
      ],
      "metadata": {
        "id": "wZj6oNQktXfh"
      }
    },
    {
      "cell_type": "code",
      "source": [
        "# 06_second_in_year\n",
        "DAYS_IN_YEAR:int=365\n",
        "HOURS_PER_DAY:int=24\n",
        "MINUTES_PER_HOUR:int=60\n",
        "SECONDS_PER_MINUTE:int=60\n",
        "\n",
        "def SEC():\n",
        "  print(f\"There are {DAYS_IN_YEAR * HOURS_PER_DAY * MINUTES_PER_HOUR * SECONDS_PER_MINUTE} seconds in a year\")\n",
        "\n",
        "if __name__ == \"__main__\":\n",
        "  SEC()"
      ],
      "metadata": {
        "colab": {
          "base_uri": "https://localhost:8080/"
        },
        "id": "7FHEy5khtmNR",
        "outputId": "f7890c03-7da2-4e97-dbd6-c7baaa715980"
      },
      "execution_count": null,
      "outputs": [
        {
          "output_type": "stream",
          "name": "stdout",
          "text": [
            "There are 31536000 seconds in a year\n"
          ]
        }
      ]
    },
    {
      "cell_type": "markdown",
      "source": [
        "# 07 🚀Tiny Mad Lib🚀"
      ],
      "metadata": {
        "id": "WvRHxVNHucjk"
      }
    },
    {
      "cell_type": "code",
      "source": [
        "# 07_tiny_mad_lab\n",
        "print(\"*Azeezullah*\")\n",
        "def tiny_mad_lab():\n",
        "  noun:str = str(input(\"Enter a noun:\"))\n",
        "  adjective:str = str(input(\"Enter an adjective:\"))\n",
        "  verb:str = str(input(\"Enter a verb:\"))\n",
        "  adverb:str = str(input(\"Enter an adverb:\"))\n",
        "  print(f\"Do you {verb} your {adjective} {noun} {adverb}? That's hilarious!\")\n",
        "\n",
        "if __name__ == \"__main__\":\n",
        "  tiny_mad_lab()\n"
      ],
      "metadata": {
        "colab": {
          "base_uri": "https://localhost:8080/"
        },
        "id": "wQRq0VYAusny",
        "outputId": "d181e168-3aa8-498d-9073-186e6f037331"
      },
      "execution_count": null,
      "outputs": [
        {
          "output_type": "stream",
          "name": "stdout",
          "text": [
            "*Azeezullah*\n",
            "Enter a noun:Azeezullah\n",
            "Enter an adjective:cool\n",
            "Enter a verb:\n",
            "Enter an adverb:\n",
            "Do you  your cool Azeezullah ? That's hilarious!\n"
          ]
        }
      ]
    }
  ]
}