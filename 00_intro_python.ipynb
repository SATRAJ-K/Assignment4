{
  "cells": [
    {
      "cell_type": "markdown",
      "metadata": {
        "id": "view-in-github",
        "colab_type": "text"
      },
      "source": [
        "<a href=\"https://colab.research.google.com/github/SATRAJ-K/Assignment4/blob/main/00_intro_python.ipynb\" target=\"_parent\"><img src=\"https://colab.research.google.com/assets/colab-badge.svg\" alt=\"Open In Colab\"/></a>"
      ]
    },
    {
      "cell_type": "markdown",
      "metadata": {
        "id": "gb_AlCpdjoMM"
      },
      "source": [
        "# 01_Add_Two_Numbers"
      ]
    },
    {
      "cell_type": "code",
      "execution_count": null,
      "metadata": {
        "colab": {
          "base_uri": "https://localhost:8080/"
        },
        "id": "lSQDxA77j0rE",
        "outputId": "af948bce-0349-4547-84c6-a06ab8dca847"
      },
      "outputs": [
        {
          "output_type": "stream",
          "name": "stdout",
          "text": [
            "01_add_two_numbers\n",
            "🚀--------------------------🚀\n",
            "This program add two numbers\n",
            "Enter your first number. 12\n",
            "Enter your second nunber. 12\n",
            "The total sum of = 12 and 12 is 24\n"
          ]
        }
      ],
      "source": [
        "print(\"01_add_two_numbers\")\n",
        "print(\"🚀--------------------------🚀\")\n",
        "\n",
        "def addition():\n",
        "  print(\"This program add two numbers\")\n",
        "  first_number = int(input(\"Enter your first number. \"))\n",
        "  second_number = int(input(\"Enter your second nunber. \"))\n",
        "  total = int(first_number + second_number)\n",
        "  print(f'The total sum of = {first_number} and {second_number} is {total}')\n",
        "\n",
        "if __name__ == \"__main__\":\n",
        "  addition()\n"
      ]
    },
    {
      "cell_type": "markdown",
      "metadata": {
        "id": "AlR-G7EImO7x"
      },
      "source": [
        "# 02 Agreement_Bot\n"
      ]
    },
    {
      "cell_type": "code",
      "source": [
        "# 02 Agreement_bot\n",
        "print(\"02_Agreement_Bot\")\n",
        "print(\"🚀--------------------------🚀\")\n",
        "def Agreement_bot():\n",
        "  animal = str(input(\"What is your favourite animal ⁉\"))\n",
        "  print(f\"🕸 My favourite animal is {animal}\")\n",
        "\n",
        "if __name__ == \"__main__\":\n",
        "    Agreement_bot()\n"
      ],
      "metadata": {
        "colab": {
          "base_uri": "https://localhost:8080/"
        },
        "id": "YnHypsUjpMA3",
        "outputId": "0d00b96b-ec37-4342-f81c-22b6db8e87ed"
      },
      "execution_count": null,
      "outputs": [
        {
          "output_type": "stream",
          "name": "stdout",
          "text": [
            "02_Agreement_Bot\n",
            "🚀--------------------------🚀\n",
            "What is your favourite animal ⁉dog\n",
            "🕸 My favourite animal is dog\n"
          ]
        }
      ]
    },
    {
      "cell_type": "markdown",
      "source": [
        "# 03_Fahrenheit_to_Celsius"
      ],
      "metadata": {
        "id": "XvWY78PSqLm2"
      }
    },
    {
      "cell_type": "code",
      "source": [
        "#03 Fahrenheit_Celsius\n",
        "print(\"03_Fahrenheit_to_Celsius\")\n",
        "print(\"🚀--------------------------🚀\")\n",
        "def temperature():\n",
        "  print(\"Convert Fahrenheit to Celsius.\")\n",
        "  Fahrenheit_degree = float(input(\"Enter the temperature in Fahrenheit. \"))\n",
        "  Celsius_degree = (Fahrenheit_degree - 32) * 5.0/9.0\n",
        "  print(f'The temperature in Celsius is {Celsius_degree}')\n",
        "\n",
        "if __name__ == \"__main__\":\n",
        "  temperature()\n"
      ],
      "metadata": {
        "colab": {
          "base_uri": "https://localhost:8080/"
        },
        "id": "zNEfSCDRqbeV",
        "outputId": "af99a222-d3c2-4023-a3b3-8139295eee2d"
      },
      "execution_count": null,
      "outputs": [
        {
          "output_type": "stream",
          "name": "stdout",
          "text": [
            "03_Fahrenheit_to_Celsius\n",
            "🚀--------------------------🚀\n",
            "Convert Fahrenheit to Celsius.\n",
            "Enter the temperature in Fahrenheit. 23.0\n",
            "The temperature in Celsius is -5.0\n"
          ]
        }
      ]
    },
    {
      "cell_type": "markdown",
      "source": [
        "# 04 How_Old_Are_They"
      ],
      "metadata": {
        "id": "Mo8VwPccsRku"
      }
    },
    {
      "cell_type": "code",
      "source": [
        "# 04_How_Old_Are_They\n",
        "print(\"04_How_Old_Are_They\")\n",
        "print(\"🔰--------------------------🔰\")\n",
        "\n",
        "def age_add():\n",
        "  anthon : int =21\n",
        "  beth : int = anthon + 6\n",
        "  chen : int = beth + 20\n",
        "  drew :int = chen + anthon\n",
        "  ethan : int = chen\n",
        "\n",
        "  print(\"Anthon is \" + str(anthon) + \" years old.\")\n",
        "  print(\"Beth is \" + str(beth) + \" years old.\")\n",
        "  print(\"Chen is \" + str(chen) + \" years old.\")\n",
        "  print(\"Drew is \" + str(drew) + \" years old.\")\n",
        "  print(\"Ethan is \" + str(ethan) + \" years old.\")\n",
        "\n",
        "if __name__ == \"__main__\":\n",
        "  age_add()"
      ],
      "metadata": {
        "colab": {
          "base_uri": "https://localhost:8080/"
        },
        "id": "Q_rGlnwNsdCu",
        "outputId": "a6544272-3114-4ec5-eb0d-7d760c32f6ab"
      },
      "execution_count": null,
      "outputs": [
        {
          "output_type": "stream",
          "name": "stdout",
          "text": [
            "04_How_Old_Are_They\n",
            "🔰--------------------------🔰\n",
            "Anthon is 21 years old.\n",
            "Beth is 27 years old.\n",
            "Chen is 47 years old.\n",
            "Drew is 68 years old.\n",
            "Ethan is 47 years old.\n"
          ]
        }
      ]
    },
    {
      "cell_type": "markdown",
      "source": [
        "# 05 Triangle_Primeter"
      ],
      "metadata": {
        "id": "8gGbuajouQEm"
      }
    },
    {
      "cell_type": "code",
      "source": [
        "# 05 Triangle_Primeter\n",
        "\n",
        "print(\"05_Triangle_Primeter\")\n",
        "print(\"🚀--------------------------🚀\")\n",
        "def triangle_primeter():\n",
        "  print(\"This program calculates the primeter of a triangle.\")\n",
        "  side_a:float = float(input(\"Enter the length of side A. \"))\n",
        "  side_b:float= float(input(\"Enter the length of side B. \"))\n",
        "  side_c:float= float(input(\"Enter the length of side C. \"))\n",
        "\n",
        "  total : float = float (side_a + side_b + side_c)\n",
        "  print(f'The total primeter of the triangle is {total}')\n",
        "\n",
        "if __name__ == \"__main__\":\n",
        "  triangle_primeter()\n"
      ],
      "metadata": {
        "colab": {
          "base_uri": "https://localhost:8080/"
        },
        "id": "f24tghX2vbyA",
        "outputId": "f50dfc1e-bac0-4fd2-a4e5-fd2d3302bef6"
      },
      "execution_count": null,
      "outputs": [
        {
          "output_type": "stream",
          "name": "stdout",
          "text": [
            "05_Triangle_Primeter\n",
            "🚀--------------------------🚀\n",
            "This program calculates the primeter of a triangle.\n",
            "Enter the length of side A. 12\n",
            "Enter the length of side B. 23\n",
            "Enter the length of side C. 2.3\n",
            "The total primeter of the triangle is 37.3\n"
          ]
        }
      ]
    },
    {
      "cell_type": "markdown",
      "source": [
        "# 06 Square_Number"
      ],
      "metadata": {
        "id": "TwAfHzdtv0tY"
      }
    },
    {
      "cell_type": "code",
      "source": [
        "# 06 sequire_Number\n",
        "print(\"06_Square_Number\")\n",
        "print(\"🖼--------------------------🖼\")\n",
        "\n",
        "def square_number():\n",
        "  print(\"This program is about square of given number\")\n",
        "\n",
        "  number_1:int = int (input(\"Enter any number i will give you square value:\"))\n",
        "\n",
        "  print(f\"The square of {number_1} is {number_1 ** 2}\")\n",
        "\n",
        "if __name__ == \"__main__\":\n",
        "  square_number()"
      ],
      "metadata": {
        "colab": {
          "base_uri": "https://localhost:8080/"
        },
        "id": "gn01gzRdwLEW",
        "outputId": "9db62ca8-c9e1-4fd6-9b05-4026e8b3c4c5"
      },
      "execution_count": null,
      "outputs": [
        {
          "output_type": "stream",
          "name": "stdout",
          "text": [
            "06_Square_Number\n",
            "🖼--------------------------🖼\n",
            "This program is about square of given number\n",
            "Enter any number i will give you square value:12\n",
            "The square of 12 is 144\n"
          ]
        }
      ]
    }
  ],
  "metadata": {
    "colab": {
      "provenance": [],
      "include_colab_link": true
    },
    "kernelspec": {
      "display_name": "Python 3",
      "name": "python3"
    },
    "language_info": {
      "name": "python"
    }
  },
  "nbformat": 4,
  "nbformat_minor": 0
}